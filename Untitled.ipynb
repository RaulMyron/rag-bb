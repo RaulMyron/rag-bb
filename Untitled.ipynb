{
 "cells": [
  {
   "cell_type": "code",
   "execution_count": 22,
   "id": "ac61aba6-940b-402c-a0f2-f98a2a7430c7",
   "metadata": {},
   "outputs": [],
   "source": [
    "from langchain.document_loaders import PyPDFLoader\n",
    "from langchain.text_splitter import RecursiveCharacterTextSplitter\n",
    "from langchain_openai import OpenAIEmbeddings\n",
    "from langchain.chains.question_answering import load_qa_chain\n",
    "from langchain.chat_models import ChatOpenAI\n",
    "from langchain_community.vectorstores import Chroma\n",
    "import chromadb\n",
    "\n",
    "from dotenv import load_dotenv\n",
    "import os"
   ]
  },
  {
   "cell_type": "code",
   "execution_count": 23,
   "id": "452edb3d-cea1-4bb7-9789-8e64f904d008",
   "metadata": {},
   "outputs": [
    {
     "data": {
      "text/plain": [
       "[Collection(name=anpd)]"
      ]
     },
     "execution_count": 23,
     "metadata": {},
     "output_type": "execute_result"
    }
   ],
   "source": [
    "c_client = chromadb.HttpClient(host='0.0.0.0',port=8000)\n",
    "# c_client.get_or_create_collection('anpd', metadata={\"hnsw:space\": \"cosine\"})\n",
    "c_client.list_collections()"
   ]
  },
  {
   "cell_type": "code",
   "execution_count": 24,
   "id": "0536037d-8c17-49b4-babf-5609aa14207d",
   "metadata": {},
   "outputs": [
    {
     "data": {
      "text/plain": [
       "111"
      ]
     },
     "execution_count": 24,
     "metadata": {},
     "output_type": "execute_result"
    }
   ],
   "source": [
    "c_client.get_collection('anpd').count()"
   ]
  },
  {
   "cell_type": "code",
   "execution_count": null,
   "id": "6c9b43a8-a7c6-49b8-896f-360f380d189f",
   "metadata": {},
   "outputs": [],
   "source": []
  },
  {
   "cell_type": "code",
   "execution_count": null,
   "id": "2a65e3f5-9418-4b21-a3d3-d714ed377463",
   "metadata": {},
   "outputs": [],
   "source": []
  },
  {
   "cell_type": "code",
   "execution_count": null,
   "id": "af371b1d-5bd3-4a53-ab9f-7aa02c693b8b",
   "metadata": {},
   "outputs": [],
   "source": []
  },
  {
   "cell_type": "code",
   "execution_count": null,
   "id": "bd2b754b-e4c1-44d9-8df5-298de2a8317c",
   "metadata": {},
   "outputs": [],
   "source": []
  },
  {
   "cell_type": "code",
   "execution_count": null,
   "id": "de732224-abd5-4ccb-80a8-b4a74ec9cf2b",
   "metadata": {},
   "outputs": [],
   "source": []
  },
  {
   "cell_type": "code",
   "execution_count": null,
   "id": "8bacd871-180d-4bfb-ae0d-97d18290a200",
   "metadata": {},
   "outputs": [],
   "source": []
  },
  {
   "cell_type": "code",
   "execution_count": 4,
   "id": "60f8c62c-5eb3-470e-b596-c930928d9662",
   "metadata": {},
   "outputs": [
    {
     "data": {
      "text/plain": [
       "True"
      ]
     },
     "execution_count": 4,
     "metadata": {},
     "output_type": "execute_result"
    }
   ],
   "source": [
    "load_dotenv(\"src/data_ingestion/.env\",verbose=True)"
   ]
  },
  {
   "cell_type": "code",
   "execution_count": 7,
   "id": "f9888edc-8c28-4973-950a-67f006b51230",
   "metadata": {},
   "outputs": [],
   "source": [
    "from glob import glob"
   ]
  },
  {
   "cell_type": "code",
   "execution_count": 9,
   "id": "1e9c3c76-e1df-4c01-a8de-dd847c0080e5",
   "metadata": {},
   "outputs": [
    {
     "data": {
      "text/plain": [
       "['src/data_ingestion/docs/web-guia-anpd-tratamento-de-dados-para-fins-academicos.pdf']"
      ]
     },
     "execution_count": 9,
     "metadata": {},
     "output_type": "execute_result"
    }
   ],
   "source": [
    "glob(\"src/data_ingestion/docs/*.pdf\")"
   ]
  },
  {
   "cell_type": "code",
   "execution_count": null,
   "id": "3583e317-905c-48f5-89a5-d2afbabe5ac3",
   "metadata": {},
   "outputs": [],
   "source": []
  },
  {
   "cell_type": "code",
   "execution_count": null,
   "id": "b1be4048-7a23-4590-9916-1b35ae3a8bc6",
   "metadata": {},
   "outputs": [],
   "source": []
  },
  {
   "cell_type": "code",
   "execution_count": 19,
   "id": "e6347b1c-fbf7-4cb0-9fdc-3ca0e14f61a9",
   "metadata": {},
   "outputs": [],
   "source": [
    "os.environ[\"OPENAI_API_KEY\"] = os.getenv(\"OPEN_AI_KEY\")"
   ]
  },
  {
   "cell_type": "code",
   "execution_count": 20,
   "id": "cf79b4ed-c1b5-4061-a9b2-a151e09944ab",
   "metadata": {},
   "outputs": [],
   "source": [
    "splitter = RecursiveCharacterTextSplitter(\n",
    "    chunk_size=1000, \n",
    "    chunk_overlap=200,\n",
    "    length_function=len,\n",
    "    is_separator_regex=False\n",
    ")\n",
    "\n",
    "loader = PyPDFLoader(\"docs/web-guia-anpd-tratamento-de-dados-para-fins-academicos.pdf\")\n",
    "docs = loader.load_and_split(text_splitter=splitter)"
   ]
  },
  {
   "cell_type": "code",
   "execution_count": 21,
   "id": "dc54d602-ead0-46a8-b816-31dcbbddaa7c",
   "metadata": {},
   "outputs": [],
   "source": [
    "embedding = OpenAIEmbeddings(model='text-embedding-3-large')"
   ]
  },
  {
   "cell_type": "markdown",
   "id": "f23f0f18-32ee-4039-b14a-474f4efcc9cb",
   "metadata": {},
   "source": [
    "## Chroma"
   ]
  },
  {
   "cell_type": "code",
   "execution_count": 10,
   "id": "04a42a2b-04e5-4b38-842b-8c4afe5b8aab",
   "metadata": {},
   "outputs": [
    {
     "data": {
      "text/plain": [
       "[Collection(name=anpd)]"
      ]
     },
     "execution_count": 10,
     "metadata": {},
     "output_type": "execute_result"
    }
   ],
   "source": [
    "c_client = chromadb.HttpClient(host='localhost',port=8000)\n",
    "# c_client.reset()\n",
    "# c_client.get_or_create_collection('anpd', metadata={\"hnsw:space\": \"cosine\"})\n",
    "c_client.list_collections()"
   ]
  },
  {
   "cell_type": "code",
   "execution_count": 7,
   "id": "5f943a58-037e-4e6a-820f-9530c60805f4",
   "metadata": {},
   "outputs": [],
   "source": [
    "db = Chroma(collection_name='anpd', embedding_function=embedding, \n",
    "            client=c_client)"
   ]
  },
  {
   "cell_type": "code",
   "execution_count": 8,
   "id": "b42cba9a-532f-47d6-86d2-816d04cc4b8f",
   "metadata": {},
   "outputs": [
    {
     "data": {
      "text/plain": [
       "0"
      ]
     },
     "execution_count": 8,
     "metadata": {},
     "output_type": "execute_result"
    }
   ],
   "source": [
    "c_client.get_collection('anpd').count()"
   ]
  },
  {
   "cell_type": "code",
   "execution_count": 9,
   "id": "497ff48d-eb62-42ce-aa78-9ec501bd38f3",
   "metadata": {},
   "outputs": [],
   "source": [
    "_ = db.add_documents(docs)"
   ]
  },
  {
   "cell_type": "code",
   "execution_count": 10,
   "id": "12e7b511-503a-48ab-85f0-4363611ffd08",
   "metadata": {},
   "outputs": [
    {
     "data": {
      "text/plain": [
       "[Collection(name=anpd)]"
      ]
     },
     "execution_count": 10,
     "metadata": {},
     "output_type": "execute_result"
    }
   ],
   "source": [
    "c_client.list_collections()"
   ]
  },
  {
   "cell_type": "code",
   "execution_count": 11,
   "id": "ebe704e6-3e73-4f89-a127-4f84c604e506",
   "metadata": {},
   "outputs": [
    {
     "data": {
      "text/plain": [
       "116"
      ]
     },
     "execution_count": 11,
     "metadata": {},
     "output_type": "execute_result"
    }
   ],
   "source": [
    "c_client.get_collection('anpd').count()"
   ]
  },
  {
   "cell_type": "markdown",
   "id": "975a6a76-24b3-49f0-95cf-7f26e1d75d85",
   "metadata": {},
   "source": [
    "## chain"
   ]
  },
  {
   "cell_type": "code",
   "execution_count": 12,
   "id": "3b8e4f8e-0004-4c41-9575-d0401aaccea6",
   "metadata": {},
   "outputs": [],
   "source": [
    "from langchain_openai import ChatOpenAI\n",
    "from langchain_core.prompts import ChatPromptTemplate\n",
    "from langchain_core.output_parsers import StrOutputParser\n",
    "from langchain_core.runnables import RunnablePassthrough"
   ]
  },
  {
   "cell_type": "code",
   "execution_count": 13,
   "id": "91068214-0f99-425d-973b-df854904c8d5",
   "metadata": {},
   "outputs": [],
   "source": [
    "template = \"\"\"Answer the question based only on the following context:\n",
    "\n",
    "{context}\n",
    "\n",
    "Question: {question}\n",
    "\"\"\""
   ]
  },
  {
   "cell_type": "code",
   "execution_count": 14,
   "id": "8c4c8290-e4e1-475e-a603-9dcb2928e7d0",
   "metadata": {},
   "outputs": [],
   "source": [
    "prompt = ChatPromptTemplate.from_template(template)\n",
    "model = ChatOpenAI(temperature=0.4)"
   ]
  },
  {
   "cell_type": "code",
   "execution_count": 15,
   "id": "e5d4b742-8ffd-476e-b7d6-0d0459cc0677",
   "metadata": {},
   "outputs": [],
   "source": [
    "def format_docs(docs):\n",
    "    return \"\\n\\n\".join([d.page_content for d in docs])"
   ]
  },
  {
   "cell_type": "code",
   "execution_count": 16,
   "id": "22ef2dac-ede4-4302-a35d-b66692e3deac",
   "metadata": {},
   "outputs": [
    {
     "name": "stdout",
     "output_type": "stream",
     "text": [
      "No caso de órgãos públicos, a disponibilização de acesso a dados pessoais pode acontecer em decorrência do cumprimento de obrigação legal ou quando necessário à execução de políticas públicas.\n"
     ]
    }
   ],
   "source": [
    "chain = (\n",
    "    {\"context\": db.as_retriever() | format_docs, \"question\": RunnablePassthrough()}\n",
    "    | prompt\n",
    "    | model\n",
    "    | StrOutputParser()\n",
    ")\n",
    "\n",
    "print(chain.invoke(\"No caso de órgãos públicos a disponibilização de acesso a dados pessoais pode acontecer em docorrência do que?\"))"
   ]
  },
  {
   "cell_type": "code",
   "execution_count": null,
   "id": "c8c42475-5b08-4c50-919b-c8b62c092dcd",
   "metadata": {},
   "outputs": [],
   "source": []
  }
 ],
 "metadata": {
  "kernelspec": {
   "display_name": "Python 3 (ipykernel)",
   "language": "python",
   "name": "python3"
  },
  "language_info": {
   "codemirror_mode": {
    "name": "ipython",
    "version": 3
   },
   "file_extension": ".py",
   "mimetype": "text/x-python",
   "name": "python",
   "nbconvert_exporter": "python",
   "pygments_lexer": "ipython3",
   "version": "3.11.8"
  }
 },
 "nbformat": 4,
 "nbformat_minor": 5
}
