{
 "cells": [
  {
   "cell_type": "markdown",
   "id": "81408097-4886-498a-8849-8b05c5de489e",
   "metadata": {},
   "source": [
    "# LLM + RAG"
   ]
  },
  {
   "cell_type": "markdown",
   "id": "204642bb-5419-450e-8894-9df893eee953",
   "metadata": {},
   "source": [
    "### Importações"
   ]
  },
  {
   "cell_type": "code",
   "execution_count": 1,
   "id": "ff86aaee-dab6-4eed-bec9-81610621e520",
   "metadata": {},
   "outputs": [
    {
     "data": {
      "text/plain": [
       "True"
      ]
     },
     "execution_count": 1,
     "metadata": {},
     "output_type": "execute_result"
    }
   ],
   "source": [
    "import dotenv\n",
    "import os\n",
    "import numpy as np\n",
    "\n",
    "from langchain_core.output_parsers import StrOutputParser\n",
    "from langchain_core.runnables import RunnablePassthrough, RunnableParallel\n",
    "from langchain_openai import ChatOpenAI, OpenAIEmbeddings\n",
    "from langchain_core.prompts import PromptTemplate\n",
    "from langchain.vectorstores import Chroma\n",
    "import chromadb\n",
    "import pprint\n",
    "\n",
    "dotenv.load_dotenv()"
   ]
  },
  {
   "cell_type": "markdown",
   "id": "544d6745-17c4-4ebf-84e0-1ac39e6b917d",
   "metadata": {},
   "source": [
    "### Embedding Model"
   ]
  },
  {
   "cell_type": "code",
   "execution_count": 3,
   "id": "4fb5ec26-b310-4141-8e62-8588c2f20a52",
   "metadata": {},
   "outputs": [],
   "source": [
    "embedding = OpenAIEmbeddings(model=os.getenv('MODEL_NAME'), embedding_ctx_length=10000)"
   ]
  },
  {
   "cell_type": "markdown",
   "id": "2148d400-797f-4b4e-a833-b5fdb68eb0ae",
   "metadata": {},
   "source": [
    "### Retriever"
   ]
  },
  {
   "cell_type": "code",
   "execution_count": 4,
   "id": "073cc4c1-3a5c-44eb-8bc6-338a44a4db08",
   "metadata": {},
   "outputs": [
    {
     "data": {
      "text/plain": [
       "[Collection(name=anpd)]"
      ]
     },
     "execution_count": 4,
     "metadata": {},
     "output_type": "execute_result"
    }
   ],
   "source": [
    "c_client = chromadb.HttpClient('0.0.0.0',8000)\n",
    "c_client.list_collections()"
   ]
  },
  {
   "cell_type": "code",
   "execution_count": 5,
   "id": "144b5d5f-322a-4b66-8585-f2eb3ab18639",
   "metadata": {},
   "outputs": [
    {
     "data": {
      "text/plain": [
       "539"
      ]
     },
     "execution_count": 5,
     "metadata": {},
     "output_type": "execute_result"
    }
   ],
   "source": [
    "anpd_data = c_client.get_collection(os.getenv('COLLECTION_NAME'))\n",
    "anpd_data.count()"
   ]
  },
  {
   "cell_type": "code",
   "execution_count": 10,
   "id": "f4d212d7-bea7-4d5f-8f09-33ff632e0b45",
   "metadata": {
    "jupyter": {
     "source_hidden": true
    }
   },
   "outputs": [
    {
     "name": "stdout",
     "output_type": "stream",
     "text": [
      "########## TEXTO ##########\n",
      "('Prevenção à fraude e à segurança | o modelo de teste de balanceamento '\n",
      " 'também \\n'\n",
      " 'pode ser utilizado no caso de tratamento baseado na hipótese legal prevista '\n",
      " 'no art. \\n'\n",
      " '11, ii, g, da lgpd, como forma de avaliar se, no caso concreto, prevalecem '\n",
      " 'direitos e li-\\n'\n",
      " 'berdades fundamentais dos titulares. Em especial, deve-se considerar que '\n",
      " 'essa hipó-\\n'\n",
      " 'tese legal é aplicável exclusivamente para fins de “prevenção à fraude e à '\n",
      " 'segurança \\n'\n",
      " 'do titular , nos processos de identificação e autenticação de cadastro em '\n",
      " 'sistemas ele-\\n'\n",
      " 'trônicos”. Esta finalidade deve ser interpretada restritivamente e descrita '\n",
      " 'de forma \\n'\n",
      " 'objetiva e o mais detalhada possível.\\n'\n",
      " 'Dados de crianças e adolescentes | caso o tratamento envolva dados pessoais '\n",
      " 'de \\n'\n",
      " 'crianças e adolescentes, o melhor interesse dos titulares deve ser avaliado '\n",
      " 'de forma \\n'\n",
      " 'prioritária em todas as fases do teste, prevalecendo a interpretação que '\n",
      " 'atenda a esse \\n'\n",
      " 'princípio de forma mais eficaz. Além disso, o tratamento não deve ser '\n",
      " 'realizado se o')\n",
      "\n",
      "########## ID ##########\n",
      "'0090b801-c67b-4424-951a-6c1cb20ba6d7'\n",
      "\n",
      "########## EMBEDDING ##########\n",
      "array([-0.03580639, -0.01213293, -0.00942697, ...,  0.0020185 ,\n",
      "       -0.01554828, -0.01629425])\n",
      "(3072,)\n",
      "\n",
      "########## METADATA ##########\n",
      "{'page': 45, 'source': 'docs/guia_legitimo_interesse.pdf'}\n"
     ]
    }
   ],
   "source": [
    "idx = 3\n",
    "\n",
    "sample = anpd_data.peek()\n",
    "print(\"########## TEXTO ##########\")\n",
    "pprint.pp(sample['documents'][idx])\n",
    "print(\"\\n########## ID ##########\")\n",
    "pprint.pp(sample['ids'][idx])\n",
    "print(\"\\n########## EMBEDDING ##########\")\n",
    "pprint.pp(np.array(sample['embeddings'][idx]))\n",
    "pprint.pp(np.array(sample['embeddings'][idx]).shape)\n",
    "print(\"\\n########## METADATA ##########\")\n",
    "pprint.pp(sample['metadatas'][idx])"
   ]
  },
  {
   "cell_type": "code",
   "execution_count": 11,
   "id": "c19a3441-4e39-4a8c-90ed-acb17cfcee3f",
   "metadata": {},
   "outputs": [],
   "source": [
    "vectordb = Chroma(collection_name = os.getenv('COLLECTION_NAME'), \n",
    "                  embedding_function=embedding,\n",
    "                  client=c_client)"
   ]
  },
  {
   "cell_type": "code",
   "execution_count": 12,
   "id": "837eaa42-ca99-4d5d-abe5-3b3809cd37cf",
   "metadata": {},
   "outputs": [],
   "source": [
    "## criando o retriever\n",
    "\n",
    "retriever = vectordb.as_retriever(search_type='similarity',\n",
    "                                 search_kwargs={'k':3})"
   ]
  },
  {
   "cell_type": "code",
   "execution_count": 13,
   "id": "3e6456bb-8210-4581-872f-1669b627783f",
   "metadata": {},
   "outputs": [
    {
     "data": {
      "text/plain": [
       "3"
      ]
     },
     "execution_count": 13,
     "metadata": {},
     "output_type": "execute_result"
    }
   ],
   "source": [
    "## testando o retriever\n",
    "\n",
    "contexto = retriever.get_relevant_documents(\"O que são cookies e quais suas categorias?\")\n",
    "len(contexto)"
   ]
  },
  {
   "cell_type": "code",
   "execution_count": 14,
   "id": "e4676aca-48f8-4a42-bd4f-db07e18c9b9a",
   "metadata": {},
   "outputs": [
    {
     "data": {
      "text/plain": [
       "[Document(page_content='9\\nguia anpd · Cookies e proteção de dados pessoaismentais. Neste último caso, é possível considerar o perfil comporta-\\nmental como um dado pessoal, uma vez que associado a uma pessoa \\nnatural[ 2 ].  Nesse sentido, nas hipóteses acima mencionadas, as infor -\\nmações pessoais coletadas por meio de cookies podem ser considera-\\ndas dados pessoais, cujo tratamento é regulado pela lgpd.\\nCategorias de cookies\\nAs categorias para definição dos cookies são diversas e podem partir de \\ndiferentes perspectivas. No presente Guia, serão apresentadas algu-\\nmas das categorias mais comumente utilizadas, de forma não exausti-\\nva, organizadas pelos tipos de cookies mais usuais. Importante conside-\\nrar que um mesmo cookie pode ser incluído em mais de uma categoria.\\nDesse modo, a seguir são abordadas as categorias de cookies de acor -\\ndo com: (i) a entidade responsável pela sua gestão; (ii) a necessidade; \\n(iii) a finalidade; e (iv) o período de retenção das informações.', metadata={'page': 8, 'source': 'docs/guia-orientativo-cookies-e-protecao-de-dados-pessoais.pdf'}),\n",
       " Document(page_content='8\\nguia anpd · Cookies e proteção de dados pessoaisConceito e \\nclassificações\\nO que são cookies?\\nCookies são arquivos instalados no dispositivo de um usuário que per -\\nmitem a coleta de determinadas informações, inclusive de dados pes-\\nsoais em algumas situações, visando ao atendimento de finalidades \\ndiversas[ 1 ]. Entre essas informações, muitas são essenciais para o fun-\\ncionamento adequado e seguro de páginas eletrônicas e para viabili-\\nzar a oferta de serviços no ambiente digital. Assim, por exemplo, a uti-\\nlização de cookies pode identificar um usuário antes de realizar uma \\ntransação online ou, ainda, “lembrar” opções feitas anteriormente, \\ntais como o idioma utilizado, o tipo de produto preferido, as senhas e \\nos logins utilizados em sítios eletrônicos, bem como produtos que fo-\\nram adicionados ao carrinho para a realização de uma compra. Além \\ndisso, podem ser utilizados para outros fins, tais como a medição de \\naudiência de uma página e a oferta de anúncios personalizados.', metadata={'page': 7, 'source': 'docs/guia-orientativo-cookies-e-protecao-de-dados-pessoais.pdf'}),\n",
       " Document(page_content='Cookies de Publicidade ..................................................................................................................... 13 \\nCookies  de Sessão ou Temporários .................................................................................................. 13 \\nCookies de Terceiros  ......................................................................................................................... 14 \\nCookies Necessários  ......................................................................................................................... 14 \\nCookies não Necessários  .................................................................................................................. 14 \\nCookies Próprios ou Primários  ......................................................................................................... 15', metadata={'page': 3, 'source': 'docs/glossario-anpd-protecao-de-dados-pessoais-e-privacidade.pdf'})]"
      ]
     },
     "execution_count": 14,
     "metadata": {},
     "output_type": "execute_result"
    }
   ],
   "source": [
    "contexto"
   ]
  },
  {
   "cell_type": "markdown",
   "id": "e4758934-f851-49b1-992a-9c35c7554245",
   "metadata": {},
   "source": [
    "## Augment and Generate"
   ]
  },
  {
   "cell_type": "code",
   "execution_count": 36,
   "id": "5513c74f-9693-4fad-901c-72b75a1c48a5",
   "metadata": {},
   "outputs": [],
   "source": [
    "def format_docs(docs):\n",
    "    return \"\\n\\n\".join(doc.page_content for doc in docs)\n",
    "\n",
    "# query_template = \"\"\"Seu trabalho é montar um plano de ação dado a situação apresentada no contexto.\n",
    "# Utilize o máximo de conhecimento possível do contexto, caso não tenha certeza de como estruturar esse plano\n",
    "# diga que não sabe. Esse plano de ação para resolução do problema descrito na pergunta deve ter\n",
    "# passos e subpassos e indicar quais documentos precisam ser lidos para resolver o  problema. Não\n",
    "# crie passos e subpassos ligados ao conhecimento fora do contexto. Suas resposta devem ser sempre \n",
    "# em português do Brasil, utilizando linguagem formal e de simples entendimento para o usário, \n",
    "# quando possível dê exemplos para auxiliar o entendimento dos conceitos provenientes.\n",
    "\n",
    "# Contexto : {contexto}\n",
    "# Pergunta : {pergunta}\n",
    "\n",
    "# Resposta: \n",
    "# \"\"\"\n",
    "query_template = \"\"\"Não gere nenhum FAQ sobre assuntos fora do contexto.\n",
    "Gere uma FAQ sobre o contexto abaixo utilizando como referência também o tema.\n",
    "Gere no máximo 10 perguntas e respostas.\n",
    "A FAQ deve seguir a estrutura abaixo:\n",
    "\n",
    "<NUMERO DA PERGUNTA>. <PERGUNTA>\n",
    "Respota: <RESPOSTA DA PERGUNTA>\n",
    "\n",
    "{contexto}\n",
    "{tema}\n",
    "\n",
    "\"\"\"\n",
    "\n",
    "\n",
    "template = PromptTemplate.from_template(query_template)"
   ]
  },
  {
   "cell_type": "code",
   "execution_count": 37,
   "id": "e3211f32-de2e-4ab2-b683-54fb147009f8",
   "metadata": {},
   "outputs": [],
   "source": [
    "llm = ChatOpenAI(model=\"gpt-4\",\n",
    "                temperature=0.3)"
   ]
  },
  {
   "cell_type": "code",
   "execution_count": 40,
   "id": "2cf6d192-c3a9-4124-b2db-069e95953fe6",
   "metadata": {},
   "outputs": [],
   "source": [
    "rag_chain = (\n",
    "    {\"contexto\": retriever | format_docs, \"tema\": RunnablePassthrough()}\n",
    "    | template\n",
    "    | llm\n",
    "    | StrOutputParser()\n",
    ")"
   ]
  },
  {
   "cell_type": "code",
   "execution_count": 41,
   "id": "63cee20a-0ba6-4e5f-bcce-523669eb9342",
   "metadata": {},
   "outputs": [
    {
     "name": "stdout",
     "output_type": "stream",
     "text": [
      "1. O que são os princípios da finalidade, necessidade e adequação na LGPD?\n",
      "Resposta: São princípios que determinam que a coleta de dados pessoais deve ser limitada ao mínimo necessário para a realização de finalidades legítimas, explícitas e específicas, e que o tratamento posterior desses dados não pode ser incompatível com essas finalidades.\n",
      "\n",
      "2. Como esses princípios se aplicam à coleta de dados por meio de cookies?\n",
      "Resposta: A utilização de cookies deve ser específica e informada ao titular, e a coleta de dados deve ser compatível com a finalidade informada. Por exemplo, se o responsável pela página eletrônica informa ao titular que utiliza cookies apenas para medição de audiência, não poderá utilizar as informações coletadas para outras finalidades.\n",
      "\n",
      "3. O que a LGPD diz sobre o uso de cookies não necessários?\n",
      "Resposta: O consentimento do titular será mais apropriado quando a coleta de informações for realizada por cookies não necessários, ou seja, aqueles que não são essenciais para a prestação do serviço ou para o funcionamento da página eletrônica.\n",
      "\n",
      "4. Quais são as funcionalidades não essenciais de um serviço ou página eletrônica relacionadas com cookies não necessários?\n",
      "Resposta: Funcionalidades não essenciais são aquelas que não são indispensáveis para a prestação do serviço ou para o funcionamento da página, como a exibição de anúncios ou a formação de perfis comportamentais.\n",
      "\n",
      "5. O que são cookies e como eles são usados?\n",
      "Resposta: Cookies são um mecanismo útil para diversas finalidades, como identificação de usuários, viabilização de pagamentos online, apresentação de anúncios e medição da eficácia de um serviço ou de uma página eletrônica.\n",
      "\n",
      "6. Como a LGPD se aplica à coleta de dados pessoais por meio de cookies?\n",
      "Resposta: A coleta de dados pessoais por meio de cookies deve respeitar os princípios, os direitos dos titulares e o regime de proteção de dados previstos na LGPD.\n",
      "\n",
      "7. O que são dados pessoais coletados a partir de interações realizadas em um sítio na internet, em um aplicativo ou em um serviço digital?\n",
      "Resposta: São informações que podem revelar diversos aspectos da personalidade e do comportamento de pessoas, colocando-as em uma posição de maior vulnerabilidade, especialmente em face da assimetria de informação com relação a grandes provedores de aplicações de internet.\n",
      "\n",
      "8. Quais são os direitos dos titulares em relação à coleta de dados por meio de cookies?\n",
      "Resposta: Os titulares têm direito a informações pertinentes, em conformidade com os princípios da transparência e do livre acesso, além de terem assegurado o exercício de seus direitos e observadas as disposições da LGPD.\n",
      "\n",
      "9. O que é o consentimento na LGPD e quando ele é necessário?\n",
      "Resposta: O consentimento é a autorização dada pelo titular para a coleta e tratamento de seus dados pessoais. Ele será mais apropriado quando a coleta de informações for realizada por cookies não necessários.\n",
      "\n",
      "10. Como a LGPD trata o uso de cookies por entidades e órgãos públicos?\n",
      "Resposta: A LGPD prevê que devem ser fornecidas aos titulares as informações pertinentes, em conformidade com os princípios da transparência e do livre acesso, além de assegurado o exercício de seus direitos e observadas as disposições do art. 23 da LGPD.\n"
     ]
    }
   ],
   "source": [
    "print(\n",
    "    rag_chain.invoke(\"\"\"Tratamento de cookies na LGPD.\"\"\")\n",
    ")"
   ]
  },
  {
   "cell_type": "code",
   "execution_count": null,
   "id": "b0f1e0f7-e567-44f5-bb55-568cd43c0065",
   "metadata": {},
   "outputs": [],
   "source": []
  },
  {
   "cell_type": "code",
   "execution_count": null,
   "id": "074845a4-8ae3-476b-9b7f-e0ebe08820da",
   "metadata": {},
   "outputs": [],
   "source": []
  },
  {
   "cell_type": "code",
   "execution_count": null,
   "id": "6f650b64-3bf4-4fb6-8915-7000def0527b",
   "metadata": {},
   "outputs": [],
   "source": []
  },
  {
   "cell_type": "code",
   "execution_count": null,
   "id": "0615b73b-bc20-4f8c-b66c-f8674728fa43",
   "metadata": {},
   "outputs": [],
   "source": []
  },
  {
   "cell_type": "code",
   "execution_count": 44,
   "id": "0e091853-3860-4bd2-83ce-05cd78d03b0f",
   "metadata": {},
   "outputs": [
    {
     "name": "stdout",
     "output_type": "stream",
     "text": [
      "Para realizar pesquisas com os resultados dos exames de seus clientes, é necessário seguir algumas diretrizes para garantir a proteção dos dados pessoais. Primeiramente, é importante que você obtenha o consentimento dos titulares dos dados para o uso das informações na pesquisa. Além disso, é essencial garantir a confidencialidade e a privacidade dos dados, o que pode ser feito através de medidas como a anonimização e a pseudonimização. \n",
      "\n",
      "De acordo com a Norma Operacional nº 001/2013, do Conselho Nacional de Saúde, deve ser apresentado um \"termo de compromisso\" assinado pelo \"responsável maior da instituição\". Este termo deve dispor sobre a finalidade e a destinação que fundamentaram sua autorização, bem como as obrigações a que se submeterá o requerente.\n",
      "\n",
      "Além disso, é importante respeitar o princípio da boa-fé, que deve orientar todas as atividades de tratamento de dados pessoais. Isso significa que os dados devem ser utilizados apenas para a finalidade para a qual foram coletados e que os titulares dos dados devem ser informados sobre como suas informações serão utilizadas.\n",
      "\n",
      "Por fim, é importante adotar medidas de segurança para proteger os dados pessoais de acessos não autorizados e de situações acidentais ou ilícitas de destruição, perda, alteração, comunicação ou qualquer forma de tratamento inadequado ou ilícito, conforme estabelecido nos artigos 46 e 47 da Lei Geral de Proteção de Dados (LGPD).\n"
     ]
    }
   ],
   "source": [
    "print(\n",
    "    rag_chain.invoke(\n",
    "        \"\"\"Sou um laboratório de análises clínicas e gostaria de recolher e utilizar\n",
    "        os resultados dos exames de meus clientes para pesquisas. O que preciso fazer para\n",
    "        me proteger e também ao meu cliente?\"\"\"\n",
    "    )\n",
    ")"
   ]
  },
  {
   "cell_type": "code",
   "execution_count": 26,
   "id": "8159e21d-0c5f-4fbb-8c47-5ccaa416783d",
   "metadata": {},
   "outputs": [
    {
     "name": "stdout",
     "output_type": "stream",
     "text": [
      "Não tenho informações específicas sobre quais dados o Banco do Brasil coleta sobre seus clientes, pois meu treinamento é baseado em guias orientativos da ANPD (Autoridade Nacional de Proteção de Dados). No entanto, em geral, bancos costumam coletar dados como nome, CPF, endereço, telefone, e-mail, renda, informações de emprego, entre outros, para fins de identificação, análise de crédito, prevenção à fraude e cumprimento de obrigações legais. Recomendo que você entre em contato diretamente com o Banco do Brasil ou consulte a política de privacidade deles para obter informações mais precisas.\n"
     ]
    }
   ],
   "source": [
    "print(\n",
    "    rag_chain.invoke(\n",
    "        \"\"\"Sou um cliente do Banco do Brasil, quais são os dados que eles coletam sobre mim?\"\"\"\n",
    "    )\n",
    ")"
   ]
  },
  {
   "cell_type": "code",
   "execution_count": 27,
   "id": "18acdada-c72e-42af-82a8-f3e6156aa5dc",
   "metadata": {},
   "outputs": [],
   "source": [
    "## trazendo as fontes utilizadas para a resposta\n",
    "\n",
    "rag_chain_from_docs = (\n",
    "    RunnablePassthrough.assign(context=(lambda x: format_docs(x[\"contexto\"])))\n",
    "    | template\n",
    "    | llm\n",
    "    | StrOutputParser()\n",
    ")\n",
    "\n",
    "rag_chain_with_source = RunnableParallel(\n",
    "    {\"contexto\": retriever, \"pergunta\": RunnablePassthrough()}\n",
    ").assign(answer=rag_chain_from_docs)"
   ]
  },
  {
   "cell_type": "code",
   "execution_count": 28,
   "id": "79bc408a-82bb-4c5c-9514-46997e24fe28",
   "metadata": {},
   "outputs": [
    {
     "name": "stdout",
     "output_type": "stream",
     "text": [
      "{'contexto': [Document(page_content='9\\nguia anpd · Cookies e proteção de dados pessoaismentais. Neste último caso, é possível considerar o perfil comporta-\\nmental como um dado pessoal, uma vez que associado a uma pessoa \\nnatural[ 2 ].  Nesse sentido, nas hipóteses acima mencionadas, as infor -\\nmações pessoais coletadas por meio de cookies podem ser considera-\\ndas dados pessoais, cujo tratamento é regulado pela lgpd.\\nCategorias de cookies\\nAs categorias para definição dos cookies são diversas e podem partir de \\ndiferentes perspectivas. No presente Guia, serão apresentadas algu-\\nmas das categorias mais comumente utilizadas, de forma não exausti-\\nva, organizadas pelos tipos de cookies mais usuais. Importante conside-\\nrar que um mesmo cookie pode ser incluído em mais de uma categoria.\\nDesse modo, a seguir são abordadas as categorias de cookies de acor -\\ndo com: (i) a entidade responsável pela sua gestão; (ii) a necessidade; \\n(iii) a finalidade; e (iv) o período de retenção das informações.', metadata={'page': 8, 'source': 'docs/guia-orientativo-cookies-e-protecao-de-dados-pessoais.pdf'}),\n",
      "              Document(page_content='8\\nguia anpd · Cookies e proteção de dados pessoaisConceito e \\nclassificações\\nO que são cookies?\\nCookies são arquivos instalados no dispositivo de um usuário que per -\\nmitem a coleta de determinadas informações, inclusive de dados pes-\\nsoais em algumas situações, visando ao atendimento de finalidades \\ndiversas[ 1 ]. Entre essas informações, muitas são essenciais para o fun-\\ncionamento adequado e seguro de páginas eletrônicas e para viabili-\\nzar a oferta de serviços no ambiente digital. Assim, por exemplo, a uti-\\nlização de cookies pode identificar um usuário antes de realizar uma \\ntransação online ou, ainda, “lembrar” opções feitas anteriormente, \\ntais como o idioma utilizado, o tipo de produto preferido, as senhas e \\nos logins utilizados em sítios eletrônicos, bem como produtos que fo-\\nram adicionados ao carrinho para a realização de uma compra. Além \\ndisso, podem ser utilizados para outros fins, tais como a medição de \\naudiência de uma página e a oferta de anúncios personalizados.', metadata={'page': 7, 'source': 'docs/guia-orientativo-cookies-e-protecao-de-dados-pessoais.pdf'}),\n",
      "              Document(page_content='Cookies de Publicidade ..................................................................................................................... 13 \\nCookies  de Sessão ou Temporários .................................................................................................. 13 \\nCookies de Terceiros  ......................................................................................................................... 14 \\nCookies Necessários  ......................................................................................................................... 14 \\nCookies não Necessários  .................................................................................................................. 14 \\nCookies Próprios ou Primários  ......................................................................................................... 15', metadata={'page': 3, 'source': 'docs/glossario-anpd-protecao-de-dados-pessoais-e-privacidade.pdf'}),\n",
      "              Document(page_content='h. Cookies de sessão ou temporários: são projetados para coletar e \\narmazenar informações enquanto os titulares acessam um site. Cos-\\ntumam ser descartados após o encerramento da sessão, isto é, após \\no usuário fechar o navegador . São utilizados regularmente para ar -\\nmazenar informações que só são relevantes para a prestação de um \\nserviço solicitado pelos usuários ou com uma finalidade específica \\ntemporária, como ocorre, em geral, com uma lista de produtos no car -\\nrinho de um site de compras.\\ni. Cookies persistentes: os dados coletados por meio desses cookies \\nficam armazenados e podem ser acessados e processados por um pe-\\nríodo definido pelo controlador , que pode variar de alguns minutos \\na vários anos. A esse respeito, deve ser avaliado no caso concreto se a \\nutilização de cookies persistentes é necessária, uma vez que as amea-', metadata={'page': 10, 'source': 'docs/guia-orientativo-cookies-e-protecao-de-dados-pessoais.pdf'}),\n",
      "              Document(page_content='(iii) a finalidade; e (iv) o período de retenção das informações.\\ncookies de acordo com a entidade responsável pela sua gestão\\na. Cookies próprios ou primários: são os cookies definidos diretamente \\npelo site ou aplicação que o titular está visitando. Os cookies primários \\ngeralmente não podem ser usados para rastrear a atividade em outro \\nsite que não seja o site original em que foi colocado. Esses tipos de \\ncookies podem incluir informações como credenciais de login, itens do \\ncarrinho de compras ou idioma preferido.\\nb. Cookies de terceiros: são cookies criados por um domínio diferen-\\nte daquele que o titular está visitando. Decorrem de funcionalidades \\nde outros domínios que são incorporadas a uma página eletrônica, a \\nexemplo da exibição de anúncios.', metadata={'page': 8, 'source': 'docs/guia-orientativo-cookies-e-protecao-de-dados-pessoais.pdf'}),\n",
      "              Document(page_content='Sumário\\n05\\u2002 Apresentação\\n08\\u2002Conceito\\u2002e\\u2002classificações\\n08\\u2002 O que são cookies?\\n09\\u2002 Categorias de cookies\\n13 Cookies e a LGPD\\n13 Aspectos Gerais\\n17 Hipóteses Legais\\n28 Políticas de cookies\\n30 Banners de cookies\\n30 O que observar na elaboração\\n33 O que evitar na elaboração de banners \\nde cookies\\n34 Exemplos de banners de cookies\\n37 Considerações\\u2002finais\\n38\\u2002 Notas', metadata={'page': 3, 'source': 'docs/guia-orientativo-cookies-e-protecao-de-dados-pessoais.pdf'}),\n",
      "              Document(page_content='GLOSSÁRIO DE PROTEÇÃO DE DADOS PESSOAIS E PRIVACIDADE   \\n__________________________________________________________________________________  \\n \\n \\nPágina12  \\nTermo  Definição  \\nCookies  Arquivos  instalados no dispositivo de um usuário que permitem a \\ncoleta de determinadas informações, inclusive de dados pessoais \\nem algumas situações, visando ao atendimento de finalidades \\ndiversas . \\n \\nReferência  ANPD - Autoridade Nacional de Proteção de Dados . Guia \\nOrientativo: Cookies e proteção de dados  pessoais. Brasília: ANPD, \\nVersão 1.0, 202 2. 39 p. Disponível em:  \\nhttps://www.gov.br/anpd/pt- br/documentos -e-publicacoes/guia-\\norientativo -cookies -e-protecao -de-dados -pessoais.pdf. Acesso em: \\n07 nov. 2023.   \\n \\n(Ver página 8)  \\n \\nTermo  Definição  \\nCookies Analíticos \\nou de \\nDesempenho  Cookies  que possibilitam coletar dados e informações sobre como \\nos usuários utilizam o site, quais páginas visitam com mais \\nfrequência naquele site, a ocorrência de erros ou informações sobre', metadata={'page': 18, 'source': 'docs/glossario-anpd-protecao-de-dados-pessoais-e-privacidade.pdf'}),\n",
      "              Document(page_content='11\\nguia anpd · Cookies e proteção de dados pessoaisvisitam com mais frequência naquele site, a ocorrência de erros ou in-\\nformações sobre o próprio desempenho do site ou da aplicação. \\nf. Cookies de funcionalidade: são usados para fornecer os serviços bá-\\nsicos solicitados pelo usuário e possibilitam lembrar preferências do \\nsite ou aplicação, como nome de usuário, região ou idioma. Os cookies \\nde funcionalidade podem incluir cookies próprios, de terceiros, persis-\\ntentes ou de sessão. \\ng. Cookies de publicidade: são utilizados para coletar informações do \\ntitular com a finalidade de exibir anúncios. Mais especificamente, a \\npartir da coleta de informações relativas aos hábitos de navegação do \\nusuário, os cookies de publicidade permitem sua identificação, a cons-\\ntrução de perfis e a exibição de anúncios personalizados de acordo \\ncom os seus interesses.\\ncookies de acordo com o período de retenção das informações\\nh. Cookies de sessão ou temporários: são projetados para coletar e', metadata={'page': 10, 'source': 'docs/guia-orientativo-cookies-e-protecao-de-dados-pessoais.pdf'}),\n",
      "              Document(page_content='5\\nguia anpd · Cookies e proteção de dados pessoaisApresentação\\nDiariamente, ao ingressar em uma página na internet, somos avi-\\nsados de que o site em questão utiliza cookies. Por isso, é necessário \\naceitar , recusar ou gerenciar preferências – neste último caso, indi-\\ncando, de forma mais específica, quais categorias de cookies e respec -\\ntivas finalidades poderão ser utilizadas pelo provedor do serviço. Os \\ncookies desempenham atualmente um papel importante na Internet, \\naprimorando, em alguns casos, a experiência dos usuários e susten-\\ntando determinados modelos de negócios. Dentre outras finalidades, \\nos cookies viabilizam o funcionamento de páginas eletrônicas e a pres-\\ntação de serviços na internet, incluindo a medição do desempenho de \\numa página e a apresentação de anúncios personalizados.\\nEmbora a forma de apresentação das informações relativas ao uso \\nde cookies seja distinta e possa variar muito de acordo com a página', metadata={'page': 4, 'source': 'docs/guia-orientativo-cookies-e-protecao-de-dados-pessoais.pdf'}),\n",
      "              Document(page_content='Rejeitar cookies não necessários\\nAceitar todos os cookies\\nSelecionar cookies\\n31\\nguia anpd · Cookies e proteção de dados pessoais\\n ⚫ Fornecer um link de fácil acesso para que o titular possa exercer \\nos seus direitos, que pode incluir , por exemplo, saber mais deta-\\nlhes sobre como seus dados são utilizados e sobre o período de \\nretenção, além de solicitar a eliminação dos dados, opor-se ao tra-\\ntamento ou revogar o consentimento.\\nbanners de segundo nível\\n ⚫ Classificar os cookies em categorias no banner de segundo nível;\\n ⚫ Descrever as categorias de cookies de acordo com seus usos e fi-\\nnalidades;  \\n ⚫ Apresentar descrição e informações simples, claras e precisas \\nquanto a essas finalidades;\\n ⚫ Permitir a obtenção do consentimento para cada finalidade es-\\npecífica, de acordo com as categorias identificadas no banner de \\nsegundo nível, quando couber;\\n ⚫ Desativar cookies baseados no consentimento por padrão.', metadata={'page': 30, 'source': 'docs/guia-orientativo-cookies-e-protecao-de-dados-pessoais.pdf'})],\n",
      " 'pergunta': 'O que são cookies e quais são suas categorias?',\n",
      " 'answer': 'Cookies são arquivos instalados no dispositivo de um usuário que '\n",
      "           'permitem a coleta de determinadas informações, inclusive de dados '\n",
      "           'pessoais em algumas situações, visando ao atendimento de '\n",
      "           'finalidades diversas. Eles são essenciais para o funcionamento '\n",
      "           'adequado e seguro de páginas eletrônicas e para viabilizar a '\n",
      "           'oferta de serviços no ambiente digital.\\n'\n",
      "           '\\n'\n",
      "           'As categorias de cookies são diversas e podem ser organizadas de '\n",
      "           'acordo com: \\n'\n",
      "           '\\n'\n",
      "           '1. A entidade responsável pela sua gestão: \\n'\n",
      "           '   - Cookies próprios ou primários: definidos diretamente pelo '\n",
      "           'site ou aplicação que o titular está visitando. \\n'\n",
      "           '   - Cookies de terceiros: criados por um domínio diferente '\n",
      "           'daquele que o titular está visitando.\\n'\n",
      "           '\\n'\n",
      "           '2. A necessidade: \\n'\n",
      "           '   - Cookies necessários: essenciais para o funcionamento do '\n",
      "           'site.\\n'\n",
      "           '   - Cookies não necessários: não são essenciais para o '\n",
      "           'funcionamento do site, mas podem melhorar a experiência do '\n",
      "           'usuário.\\n'\n",
      "           '\\n'\n",
      "           '3. A finalidade: \\n'\n",
      "           '   - Cookies de funcionalidade: usados para fornecer os serviços '\n",
      "           'básicos solicitados pelo usuário e lembrar preferências do site ou '\n",
      "           'aplicação.\\n'\n",
      "           '   - Cookies de publicidade: utilizados para coletar informações '\n",
      "           'do titular com a finalidade de exibir anúncios.\\n'\n",
      "           '   - Cookies analíticos ou de desempenho: possibilitam coletar '\n",
      "           'dados e informações sobre como os usuários utilizam o site.\\n'\n",
      "           '\\n'\n",
      "           '4. O período de retenção das informações: \\n'\n",
      "           '   - Cookies de sessão ou temporários: projetados para coletar e '\n",
      "           'armazenar informações enquanto os titulares acessam um site. '\n",
      "           'Costumam ser descartados após o encerramento da sessão.\\n'\n",
      "           '   - Cookies persistentes: os dados coletados por meio desses '\n",
      "           'cookies ficam armazenados e podem ser acessados e processados por '\n",
      "           'um período definido pelo controlador.'}\n"
     ]
    }
   ],
   "source": [
    "pprint.pp(\n",
    "    rag_chain_with_source.invoke(\"O que são cookies e quais são suas categorias?\")\n",
    ")"
   ]
  },
  {
   "cell_type": "code",
   "execution_count": 29,
   "id": "4a65e89d-c3d0-47f4-b37d-2ac93d2ab624",
   "metadata": {},
   "outputs": [
    {
     "name": "stdout",
     "output_type": "stream",
     "text": [
      "{'contexto': [Document(page_content='48\\nguia anpd · Tratamento de dados pessoais para fins acadêmicos e para a realização de estudos e pesquisasdos dados para fins de realização da pesquisa e à atribuição de res-\\nponsabilidades para os pesquisadores e instituições de pesquisa.\\nDe fato, a posição dos pesquisadores nessas situações pode ser equi-\\nparada à de profissionais que têm o dever de conferir sigilo às infor -\\nmações recebidas no exercício de sua atividade profissional, a exem-\\nplo de médicos e advogados. Conforme as orientações fornecidas pela \\nComissão Nacional de Ética em Pesquisa, os pesquisadores devem \\nassegurar aos participantes “o compromisso profissional com o sigilo abso-\\nluto das informações” utilizadas na pesquisa[ 4 ].\\nO Conselho Nacional de Saúde publicou a Cartilha dos \\ndireitos dos participantes de pesquisa.\\nClique aqui e acesse a Cartilha.\\nTrata-se, ademais, de uma decorrência do princípio da boa-fé, que \\ndeve orientar todas as atividades de tratamento de dados pessoais,', metadata={'page': 47, 'source': 'docs/web-guia-anpd-tratamento-de-dados-para-fins-academicos.pdf'}),\n",
      "              Document(page_content='39\\nguia anpd · Tratamento de dados pessoais para fins acadêmicos e para a realização de estudos e pesquisasDe acordo com o item 03, do Anexo ii, da Norma Ope-\\nracional nº 001/2013, do Conselho Nacional de Saúde, \\ndeve ser apresentado um “termo de compromisso” assi-\\nnado pelo “responsável maior da instituição” .\\nAcesse a Norma clicando aqui\\nPor sua vez, o art. 61 do Decreto nº 7.724, de 16 de maio de 2012, que \\nregulamenta a lai no âmbito do Poder Executivo federal, condiciona \\no acesso a informações pessoais por terceiros “à assinatura de um ter -\\nmo de responsabilidade, que disporá sobre a finalidade e a destina-\\nção que fundamentaram sua autorização, sobre as obrigações a que \\nse submeterá o requerente.” \\nRessalte-se que a solicitação de um termo de ciência e responsabili-\\ndade ou outro documento congênere deve ser avaliada e adaptada de \\nacordo com o contexto e os procedimentos já adotados pelo agente \\nde tratamento.', metadata={'page': 38, 'source': 'docs/web-guia-anpd-tratamento-de-dados-para-fins-academicos.pdf'}),\n",
      "              Document(page_content='a finalidade prevista no seu protocolo, ou conforme o consentimento do \\nparticipante;\\nReforçando o exposto, a mesma Resolução estabelece que as pes-\\nquisas envolvendo seres humanos, realizadas em qualquer área do \\nconhecimento, devem prever procedimentos que assegurem a confi-\\ndencialidade e a privacidade.\\niii.2 – As pesquisas, em qualquer área do conhecimento envolvendo seres \\nhumanos, deverão observar as seguintes exigências:\\n[…]\\ni) prever procedimentos que assegurem a confidencialidade e a privaci-\\ndade, a proteção da imagem e a não estigmatização dos participantes da \\npesquisa, garantindo a não utilização das informações em prejuízo das \\npessoas e/ou das comunidades, inclusive em termos de autoestima, de \\nprestígio e/ou de aspectos econômico-financeiros;\\nAs normas legais e éticas acima citadas são convergentes no que con-\\ncerne à proteção de direitos dos titulares, à vinculação do tratamento', metadata={'page': 46, 'source': 'docs/web-guia-anpd-tratamento-de-dados-para-fins-academicos.pdf'}),\n",
      "              Document(page_content='e órgãos públicos, a apresentação de um “termo de ciência e respon-\\nsabilidade” pode ser um instrumento adequado para atestar a ciência \\nda instituição quanto à realização do estudo e quanto ao cumprimen-\\nto das obrigações pertinentes previstas na lgpd.\\nEntre estas obrigações, destaca-se a vinculação do uso dos dados à \\nfinalidade exclusiva de realização do estudo e o compromisso de res-\\npeitar a confidencialidade dos dados e a privacidade dos titulares e \\nde adotar as medidas de prevenção e segurança apropriadas ao caso. \\nA apresentação desse tipo de documento é usual em contextos simi-\\nlares, sendo exigido, por exemplo, para a submissão de um projeto \\nde pesquisa envolvendo seres humanos à avaliação de um Comitê de \\nÉtica em Pesquisa.', metadata={'page': 37, 'source': 'docs/web-guia-anpd-tratamento-de-dados-para-fins-academicos.pdf'}),\n",
      "              Document(page_content='001/2013. Disponível em: https://bit.ly/3PGthwG. Acesso em: 15 mar . 2022.\\nCONSELHO NACIONAL DE SAÚDE, Ministério da Saúde. Resolução CNS nº 466/2012. \\nDisponível em: https://conselho.saude.gov.br/resolucoes/2012/Reso466.pdf \\nAcesso em: 1 abr . 2023\\nCONGRESSO NACIONAL. Parecer (CN) nº 1, de 2019, Relator: Deputado Orlando \\nSilva, 7 mai. 2019, p. 72. Disponível em: https://legis.senado.leg.br/sdleg-getter/\\ndocumento?dm=7948833&ts=1630433098036&disposition=inline. Acesso em: \\n14 mar . 2022.\\nEDPS. A preliminary opinion on data protection and scientific research, jan./2020, p. 22. \\nDisponível em: https://bit.ly/3R7N6hn. Acesso em: 25 fev. 2022.\\nLÔBO, Paulo. Direito civil: parte geral. 5ª ed. São Paulo: Saraiva, 2015, p. 91-92.', metadata={'page': 56, 'source': 'docs/web-guia-anpd-tratamento-de-dados-para-fins-academicos.pdf'}),\n",
      "              Document(page_content='45\\nguia anpd · Tratamento de dados pessoais para fins acadêmicos e para a realização de estudos e pesquisasdevem ser considerados “os devidos padrões éticos relacionados a estu-\\ndos e pesquisas”. \\nArt. 13. Na realização de estudos em saúde pública, os órgãos de pesquisa \\npoderão ter acesso a bases de dados pessoais, que serão tratados exclusi-\\nvamente dentro do órgão e estritamente para a finalidade de realização \\nde estudos e pesquisas e mantidos em ambiente controlado e seguro, \\nconforme práticas de segurança previstas em regulamento específico e \\nque incluam, sempre que possível, a anonimização ou pseudonimização \\ndos dados, bem como considerem os devidos padrões éticos relacionados \\na estudos e pesquisas.\\nComo já mencionado, estudos e pesquisas realizados em outras áreas \\ndo conhecimento também devem adotar as medidas protetivas ne-\\ncessárias e adequadas para a mitigação de riscos aos titulares de dados \\npessoais, podendo utilizar , no que couber , os parâmetros definidos no', metadata={'page': 44, 'source': 'docs/web-guia-anpd-tratamento-de-dados-para-fins-academicos.pdf'}),\n",
      "              Document(page_content='17\\nguia anpd · Tratamento de dados pessoais para fins acadêmicos e para a realização de estudos e pesquisasArt. 46. Os agentes de tratamento devem adotar medidas de segurança, \\ntécnicas e administrativas aptas a proteger os dados pessoais de acessos \\nnão autorizados e de situações acidentais ou ilícitas de destruição, perda, \\nalteração, comunicação ou qualquer forma de tratamento inadequado ou \\nilícito.\\n[…]\\n§ 2º As medidas de que trata o caput deste artigo deverão ser observadas \\ndesde a fase de concepção do produto ou do serviço até a sua execução.\\nArt. 47. Os agentes de tratamento ou qualquer outra pessoa que inter -\\nvenha em uma das fases do tratamento obriga-se a garantir a segurança \\nda informação prevista nesta Lei em relação aos dados pessoais, mesmo \\napós o seu término.\\nexemplo 1 \\nUso compartilhado de dados entre Secretaria de Saúde e órgão de \\npesquisa\\nConsidere-se que uma Secretaria de saúde de um município co-\\nleta dados de casos confirmados de uma doença infecciosa para', metadata={'page': 16, 'source': 'docs/web-guia-anpd-tratamento-de-dados-para-fins-academicos.pdf'}),\n",
      "              Document(page_content='Assim, para fins de estudos e pesquisas realizados em todas as áreas \\ndo conhecimento, os agentes de tratamento devem adotar medidas \\nprotetivas necessárias e adequadas para a mitigação de riscos aos ti-\\ntulares dos dados pessoais – a exemplo da anonimização e da pseu-\\ndonimização. Também, deverão ser adotadas medidas jurídicas apro-\\npriadas e proporcionais aos riscos envolvidos.\\nAs medidas devem ser adotadas, inclusive, pelos agentes de trata-\\nmento que não se qualificam como “órgãos de pesquisa”, promoven-\\ndo-se a proteção da privacidade dos titulares, a confidencialidade das \\ninformações utilizadas e a observância dos padrões éticos aplicáveis.', metadata={'page': 15, 'source': 'docs/web-guia-anpd-tratamento-de-dados-para-fins-academicos.pdf'}),\n",
      "              Document(page_content='57\\nguia anpd · Tratamento de dados pessoais para fins acadêmicos e para a realização de estudos e pesquisasReferências\\nALMEIDA, Fábio. Guia de proteção de dados pessoais: pesquisa. São Paulo: CEPI-FGV \\nDireito SP , 2020, p. 32-33. Disponível em: https://bibliotecadigital.fgv.br/dspa-\\nce/handle/10438/30879. Acesso: 4 mar . 2022.\\nANPD. Guia Orientativo – Tratamento de dados pessoais pelo Poder Público. Brasília, \\njan./2022. Disponível em: https://bit.ly/3AinQhC. Acesso em: 17 ago. 2022.\\nANPD. Nota Técnica nº 46/2022/CGF/ANPD. Disponível em: https://www.gov.br/\\nanpd/pt-br/documentos-e-publicacoes/sei_00261-000730_2022_53-nt-46.pdf. \\nAcesso em: 22 ago. 2022.\\nCONSELHO NACIONAL DE SAÚDE, Ministério da Saúde. Cartilha dos direitos dos par -\\nticipantes de pesquisa., 2020, p. 3. Disponível em: https://bit.ly/3cg0i4U. Acesso \\nem: 2 mar . 2022.\\nCONSELHO NACIONAL DE SAÚDE, Ministério da Saúde. Norma Operacional nº \\n001/2013. Disponível em: https://bit.ly/3PGthwG. Acesso em: 15 mar . 2022.', metadata={'page': 56, 'source': 'docs/web-guia-anpd-tratamento-de-dados-para-fins-academicos.pdf'}),\n",
      "              Document(page_content='em saúde pública, a prevenção e a segurança são princípios gerais \\nda lgpd (art. 6º, vii e viii), que se aplicam a qualquer operação com \\ndados pessoais, constituindo obrigação legal dos agentes de trata-\\nmento, nos termos dos arts. 46 e 47[ 1 ].  Assim, estudos e pesquisas re-\\nalizados em outras áreas do conhecimento, inclusive por agentes de \\ntratamento que não se qualificam como “órgãos de pesquisa”, tam-\\nbém devem adotar as medidas protetivas necessárias e adequadas \\npara a mitigação de riscos aos titulares dos dados pessoais, aplican-\\ndo-se, no que couber , os parâmetros definidos no art. 13, conforme as \\npeculiaridades de cada caso. \\nÉ o que ocorre, em especial, com estudos que realizam tratamento de \\ndados pessoais sensíveis, tais como informações referentes à origem \\nracial e étnica, convicção religiosa e opinião política. Nessas situações, \\nainda que o estudo ou a pesquisa não se situe no campo da saúde pú-\\nblica ou seja realizado por agente de tratamento que não se qualifi-', metadata={'page': 14, 'source': 'docs/web-guia-anpd-tratamento-de-dados-para-fins-academicos.pdf'})],\n",
      " 'pergunta': 'Sou um laboratório de análises clínicas e gostaria de recolher '\n",
      "             'utilizar\\n'\n",
      "             '        os resultados dos exames de meus clientes para '\n",
      "             'pesquisas. O que preciso fazer para\\n'\n",
      "             '        me proteger e também ao meu cliente?',\n",
      " 'answer': 'Para realizar pesquisas com os resultados dos exames de seus '\n",
      "           'clientes, é importante seguir algumas orientações. Primeiramente, '\n",
      "           'é necessário obter o consentimento dos titulares dos dados para '\n",
      "           'essa finalidade específica, conforme estabelecido pela Lei Geral '\n",
      "           'de Proteção de Dados (LGPD).\\n'\n",
      "           '\\n'\n",
      "           'Além disso, é importante adotar medidas de segurança, técnicas e '\n",
      "           'administrativas, para proteger os dados pessoais de acessos não '\n",
      "           'autorizados e de situações acidentais ou ilícitas de destruição, '\n",
      "           'perda, alteração, comunicação ou qualquer forma de tratamento '\n",
      "           'inadequado ou ilícito, conforme os artigos 46 e 47 da LGPD.\\n'\n",
      "           '\\n'\n",
      "           'Você também deve garantir a confidencialidade e a privacidade dos '\n",
      "           'dados, respeitando os direitos dos titulares. Isso pode ser feito '\n",
      "           'através da anonimização e pseudonimização dos dados, por exemplo.\\n'\n",
      "           '\\n'\n",
      "           'Adicionalmente, é recomendado que seja apresentado um \"termo de '\n",
      "           'compromisso\" assinado pelo responsável da instituição, conforme '\n",
      "           'orientação do Conselho Nacional de Saúde. Esse termo deve dispor '\n",
      "           'sobre a finalidade e a destinação que fundamentaram a autorização '\n",
      "           'para o uso dos dados, bem como as obrigações a que se submeterá o '\n",
      "           'requerente.\\n'\n",
      "           '\\n'\n",
      "           'Por fim, é importante lembrar que todas as atividades de '\n",
      "           'tratamento de dados pessoais devem ser orientadas pelo princípio '\n",
      "           'da boa-fé. \\n'\n",
      "           '\\n'\n",
      "           'Lembre-se sempre de consultar um profissional especializado para '\n",
      "           'garantir a conformidade com todas as normas e regulamentações '\n",
      "           'aplicáveis.'}\n"
     ]
    }
   ],
   "source": [
    "pprint.pp(\n",
    "    rag_chain_with_source.invoke(\n",
    "        \"\"\"Sou um laboratório de análises clínicas e gostaria de recolher utilizar\n",
    "        os resultados dos exames de meus clientes para pesquisas. O que preciso fazer para\n",
    "        me proteger e também ao meu cliente?\"\"\"\n",
    "    )\n",
    ")"
   ]
  },
  {
   "cell_type": "code",
   "execution_count": 30,
   "id": "5cd5d9fc-cc5b-48bb-aaf5-f6d120fa9418",
   "metadata": {},
   "outputs": [
    {
     "name": "stdout",
     "output_type": "stream",
     "text": [
      "{'contexto': [Document(page_content='blico municipal identificou que o Departamento de Recursos Humanos \\nsolicita de novos servidores o preenchimento de uma ficha cadastral e \\nde um formulário denominado “perfil socioeconômico” . Deste último, \\nconstam dados sensíveis, tais como informações sobre origem racial, \\nconvicção religiosa e filiação a sindicato. A equipe verificou que o for -\\nmulário foi utilizado há alguns anos para subsidiar uma pesquisa efe-\\ntuada em convênio com uma instituição de ensino local. Porém, mesmo \\napós o fim do convênio, o formulário continuou sendo utilizado como \\nparte do cadastro de novos servidores. Além disso, foi identificado que \\nnão é atribuída restrição de acesso aos processos administrativos nos \\nquais estas e outras informações funcionais dos servidores são anexa-\\ndas. A justificativa apresentada para tanto foi a de que o nome do servi-\\ndor é excluído dos documentos tornados públicos. No entanto, a equipe \\nconstatou que a reindentificação do servidor correspondente poderia', metadata={'page': 40, 'source': 'docs/guia-poder-publico-anpd-versao-final.pdf'}),\n",
      "              Document(page_content='guia anpd · Tratamento de dados pessoais pelo Poder Público26\\ncom a Secretaria, tanto o representante da empresa quanto o servidor \\npúblico que assinará o contrato fornecem os seus dados, como nome, \\nprofissão, cpf, rg, estado civil e endereço residencial. Para atender a \\noutros dispositivos legais e dar publicidade à contratação da empresa, o \\ncontrato é divulgado no sítio eletrônico da Secretaria de Educação. \\nÉ possível que dados como estado civil e endereço residencial \\nnão sejam necessários para a identificação dos responsáveis \\npela contratação e para viabilizar o exercício do controle social \\nsobre a atividade do órgão público. Assim, a fim de limitar o tra-\\ntamento ao mínimo necessário para a realização de suas finali-\\ndades, o ideal é não coletar esses tipos de dados.\\nTransparência e livre acesso\\nO princípio da transparência (art. 6º, vi) garante ao titular a disponibi-\\nlização de informações claras, precisas e facilmente acessíveis sobre', metadata={'page': 25, 'source': 'docs/guia-poder-publico-anpd-versao-final.pdf'}),\n",
      "              Document(page_content='dos pessoais , documento do controlador que “contém a descrição dos \\nprocessos de tratamento de dados pessoais que podem gerar riscos \\nàs liberdades civis e aos direitos fundamentais, bem como medidas, \\nsalvaguardas e mecanismos de mitigação de risco” (art. 5º, xvii; 38, \\nparágrafo único).\\nUma possível salvaguarda a ser adotada é a limitação da divulgação \\nàqueles dados efetivamente necessários para se alcançar os pro-\\npósitos legítimos e específicos em causa, observados o contexto do \\ntratamento e as expectativas legítimas dos titulares. Nesse sentido, \\nem cumprimento à decisão proferida pelo stf , a divulgação da remu-\\nneração individualizada de servidores públicos federais é realizada \\nsem a apresentação completa de números como o cpf e a matrícula \\ndo servidor . A restrição de acesso a essas informações mitiga os ris-\\ncos aos titulares de dados pessoais, sem, no entanto, comprometer a \\nfinalidade de garantia de transparência e de controle social sobre as', metadata={'page': 38, 'source': 'docs/guia-poder-publico-anpd-versao-final.pdf'}),\n",
      "              Document(page_content='adotadas? ▶ Elaboração de relatório de impacto à proteção de dados \\npessoais, caso necessário;\\n ▶ Medidas de prevenção e segurança, a exemplo de \\nanonimização ou pseudonimização dos dados pessoais \\nsempre que isso não comprometa o exercício do \\ncontrole social;\\n ▶ Limitação da divulgação àqueles dados necessários para \\nalcançar a finalidade pretendida, observados o contexto, \\na finalidade e as expectativas legítimas dos titulares;\\n ▶ Transparência do tratamento; e\\n ▶ Garantia de direitos dos titulares.', metadata={'page': 50, 'source': 'docs/guia-poder-publico-anpd-versao-final.pdf'}),\n",
      "              Document(page_content='teção de dados pessoais (art. 2º, ii, lgpd) e consiste em garantir ao titular os meios \\nnecessários ao exercício do controle sobre seus próprios dados pessoais. ▶ p.38\\nConforme decidido pelo stf , “a remuneração dos agentes públicos constitui informa-\\nção de interesse coletivo ou geral”, aplicando-se à hipótese o princípio constitucional \\nda publicidade administrativa, que “propicia o controle da atividade estatal até mes-\\nmo pelos cidadãos.” A Corte entendeu, ainda, que os riscos pessoais decorrentes da \\ndivulgação são atenuados com “a proibição de se revelar o endereço residencial, o cpf  \\ne a ci de cada servidor”. Por fim, em atenção ao contexto e às expectativas dos titula-\\nres envolvidos, a decisão menciona que “os dados objeto de divulgação em causa di-\\nzem respeito a agentes públicos mesmos; ou, na linguagem da própria Constituição, \\nagentes estatais agindo nessa qualidade”. Suspensão de Liminar nº 623/df, Ministro \\nAyres Britto, 10 de julho de 2012. ▶ p.40[ 18 ]\\n[ 19 ]\\n[ 20 ]', metadata={'page': 47, 'source': 'docs/guia-poder-publico-anpd-versao-final.pdf'}),\n",
      "              Document(page_content='em formulários-padrão – são, efetivamente, necessárias para as fina-\\nlidades para as quais serão utilizadas, não se admitindo a prática de \\ncoleta indistinta de dados pessoais, em particular de dados para os \\nquais não se tenha identificado uma finalidade específica e legítima \\npara o tratamento. Mesmo após a coleta de dados pessoais, o princípio \\nda necessidade ainda é importante no sentido de avaliar a necessida-\\nde de outros tratamentos, como o armazenamento e processamento.\\nÉ importante, ainda, que entidades do Poder Público exerçam cau-\\ntela em eventuais tratamentos discriminatórios injustificados que \\npossam ocorrer em decorrência do tratamento de dados pessoais \\ndesnecessários.\\nexemplo 9 \\nDados coletados para elaboração de contrato administrativo\\nA Secretaria de Educação de um Município contrata, por licitação, uma \\nempresa para fornecer merenda nas escolas. Para firmar o contrato', metadata={'page': 24, 'source': 'docs/guia-poder-publico-anpd-versao-final.pdf'}),\n",
      "              Document(page_content='Segurança da informação\\nEntidade pública realiza tratamento de dados pessoais de seus servi-\\ndores com a finalidade de garantir a segurança dos sistemas de infor -', metadata={'page': 13, 'source': 'docs/guia-poder-publico-anpd-versao-final.pdf'}),\n",
      "              Document(page_content='o órgão de pesquisa poderá indeferir o pedido, se constatar que, dadas \\nas circunstâncias relevantes e após a ponderação entre os interesses \\nenvolvidos, prevaleça a necessidade de resguardar o interesse público. \\n importante É essencial enfatizar que essas disposições legais \\nnão podem ser utilizadas como argumento genérico e abstrato para \\njustificar a guarda indiscriminada de dados pessoais. De fato, por en-\\nvolver restrição a direitos dos titulares, eventual negativa a pedido de \\neliminação de dados pessoais deve ser sempre motivada, demons-\\ntrando-se que a sua conservação é medida necessária e possui um \\nvínculo real com o atendimento à finalidade específica para realiza-\\nção de estudos e pesquisas.', metadata={'page': 12, 'source': 'docs/web-guia-anpd-tratamento-de-dados-para-fins-academicos.pdf'}),\n",
      "              Document(page_content='definir normas internas mais restritas de controle de acesso aos \\ndados funcionais de seus servidores, além da adoção de técnicas \\nde pseudonimização.\\nexemplo 13\\nCurrículo de candidatos a órgão consultivo\\nEntidade pública municipal recebe candidaturas de interessados em inte-\\ngrar órgão consultivo na qualidade de representante de organizações da \\nsociedade civil ou de sindicatos de empresas ou de trabalhadores. Duran-\\nte o processo seletivo, os currículos dos candidatos são disponibilizados \\nna internet. Informações pessoais de candidatos de processos anteriores \\ntambém permanecem disponíveis na página da entidade. Um candidato \\nque, há alguns anos, participou do mesmo processo seletivo, solicitou que \\nseu currículo fosse retirado da página eletrônica da entidade. \\nSeguindo orientação da área técnica e da jurídica, a autoridade \\ncompetente acatou o pedido. Assim, o currículo do titular e os de', metadata={'page': 41, 'source': 'docs/guia-poder-publico-anpd-versao-final.pdf'}),\n",
      "              Document(page_content='guia anpd · Tratamento de dados pessoais pelo Poder Público28\\nvidades de tratamento realizadas pelo controlador , bem como sobre \\nos seus direitos e a forma de exercê-los. Nesse sentido, constitui uma \\nboa prática a disponibilização dessas informações na página eletrôni-\\nca do órgão ou entidade responsável, da qual podem constar seções \\nespecíficas relacionadas à “Lei Geral de Proteção de Dados Pessoais” e \\ndocumentos como política de privacidade ou equivalente.\\nexemplo 10 \\nPrincípio da transparência no setor público\\nUma pessoa tem seus dados coletados pela recepção de um órgão público \\npara fins de segurança patrimonial e dos servidores. Para atender a ou-\\ntros dispositivos legais e dar publicidade a atos do órgão, caso essa pessoa \\nrealize uma reunião com uma autoridade, seu nome poderá ser divul-\\ngado na agenda pública da autoridade, salvo eventual restrição legal. \\nEm geral, essa pessoa deverá ser informada das finalidades que', metadata={'page': 27, 'source': 'docs/guia-poder-publico-anpd-versao-final.pdf'})],\n",
      " 'pergunta': 'Sou um cliente do Banco do Brasil, quais são os dados que eles '\n",
      "             'coletam sobre mim?',\n",
      " 'answer': 'Não tenho informações específicas sobre os dados coletados pelo '\n",
      "           'Banco do Brasil. Minhas respostas são baseadas nos Guias '\n",
      "           'Orientativos da ANPD e não possuo informações sobre práticas '\n",
      "           'individuais de empresas ou instituições específicas. Recomendo que '\n",
      "           'você entre em contato diretamente com o Banco do Brasil ou '\n",
      "           'consulte a política de privacidade deles para obter essas '\n",
      "           'informações.'}\n"
     ]
    }
   ],
   "source": [
    "pprint.pp(\n",
    "    rag_chain_with_source.invoke(\n",
    "        \"\"\"Sou um cliente do Banco do Brasil, quais são os dados que eles coletam sobre mim?\"\"\"\n",
    "    )\n",
    ")"
   ]
  },
  {
   "cell_type": "code",
   "execution_count": null,
   "id": "fa1c65ad-1866-4468-b36e-ddc692d2b10f",
   "metadata": {},
   "outputs": [],
   "source": []
  }
 ],
 "metadata": {
  "kernelspec": {
   "display_name": "Python 3 (ipykernel)",
   "language": "python",
   "name": "python3"
  },
  "language_info": {
   "codemirror_mode": {
    "name": "ipython",
    "version": 3
   },
   "file_extension": ".py",
   "mimetype": "text/x-python",
   "name": "python",
   "nbconvert_exporter": "python",
   "pygments_lexer": "ipython3",
   "version": "3.11.8"
  }
 },
 "nbformat": 4,
 "nbformat_minor": 5
}
